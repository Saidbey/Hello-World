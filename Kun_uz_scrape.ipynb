{
  "cells": [
    {
      "cell_type": "markdown",
      "metadata": {
        "id": "view-in-github",
        "colab_type": "text"
      },
      "source": [
        "<a href=\"https://colab.research.google.com/github/Saidbey/Hello-World/blob/main/Kun_uz_scrape.ipynb\" target=\"_parent\"><img src=\"https://colab.research.google.com/assets/colab-badge.svg\" alt=\"Open In Colab\"/></a>"
      ]
    },
    {
      "cell_type": "code",
      "execution_count": 91,
      "metadata": {
        "id": "LiYYuIlTLgsU"
      },
      "outputs": [],
      "source": [
        "import requests\n",
        "from bs4 import BeautifulSoup\n",
        "import pandas as pd\n",
        "from matplotlib import pyplot as plt\n",
        "import seaborn as sns\n",
        "import numpy as np\n",
        "import plotly.express as px"
      ]
    },
    {
      "cell_type": "code",
      "execution_count": 92,
      "metadata": {
        "id": "b73ElTjNNn4E"
      },
      "outputs": [],
      "source": [
        "url = \"https://kun.uz/en\"\n",
        "request = requests.get(url)\n"
      ]
    },
    {
      "cell_type": "code",
      "execution_count": null,
      "metadata": {
        "id": "eQ6eGHFF9oLI"
      },
      "outputs": [],
      "source": [
        "page = request\n",
        "soup = BeautifulSoup(page.text, \"html.parser\")\n",
        "soup2 = soup.find_all(\"a\", class_='news-lenta')\n",
        "\n",
        "new = \"https://kun.uz\" + str(soup2).split()[2][6:-2]\n",
        "re2 = BeautifulSoup(requests.get(new).text, \"html.parser\")\n",
        "soup3 = re2.select_one(\"div.single-content\").text.split()\n",
        "# soup3 = re2.find_all(\"p\")[2].text\n",
        "\n",
        "soup3\n",
        "\n",
        "\n"
      ]
    },
    {
      "cell_type": "code",
      "execution_count": 145,
      "metadata": {
        "id": "xPo_vHxM_8eb"
      },
      "outputs": [],
      "source": [
        "\n",
        "# rek = soup3\n",
        "# k = ''\n",
        "# for i in rek:\n",
        "#     k+=i.text+' '\n",
        "\n",
        "#     result = [a for a in k.split(' ')]\n",
        "# result"
      ]
    },
    {
      "cell_type": "code",
      "execution_count": null,
      "metadata": {
        "id": "MeWNsrRtUI7Z"
      },
      "outputs": [],
      "source": [
        "matn = soup3\n",
        "new = []\n",
        "\n",
        "for char in matn:\n",
        "    if char != 'to' and char != 'in' and char != 'a' and char != 'of' and char != 'at' and char != 'the'\\\n",
        "        and char != 'from' and char != 'and' and char != 'for' and char != 'about' and char != 'with'\\\n",
        "        and char != 'am' and char != 'is' and char != 'are' and char != 'have' and char != 'has'\\\n",
        "        and char != 'be' and char != 'as' and char != 'The' and char != 'by' and char != 'under' and char != 'was' \\\n",
        "        and char != 'on' and char != '/' and char != '–' and char != 'that' and char != 'this' and char != 'will'\\\n",
        "        and char != 'our':\n",
        "        new.append(char)\n",
        "        num  = []\n",
        "for raqam in new:\n",
        "  if raqam.isalpha():\n",
        "      num.append(raqam)\n",
        "\n",
        "sym = []\n",
        "for des in num:\n",
        "  if des not in ('–'):\n",
        "    sym.append(des)\n",
        "    \n",
        "\n",
        "sym"
      ]
    },
    {
      "cell_type": "code",
      "execution_count": null,
      "metadata": {
        "id": "c5n2BklrUOSD"
      },
      "outputs": [],
      "source": [
        "words = sym\n",
        "d = {}\n",
        "for sana in words:\n",
        "    d[sana] = words.count(sana)\n",
        "\n",
        "    word_freq = []\n",
        "for key, value in d.items():\n",
        "    word_freq.append((value, key))\n",
        "    word_freq.sort(reverse=True)\n",
        "    # return word_freq\n",
        "word_freq"
      ]
    },
    {
      "cell_type": "code",
      "execution_count": null,
      "metadata": {
        "id": "lVS5UyxLVAz-"
      },
      "outputs": [],
      "source": [
        "df = pd.DataFrame(word_freq)\n",
        "df.set_index(df.columns[0],inplace= True)\n",
        "data1 = df.sort_index(ascending=False).head(10)\n",
        "data1.columns = ['Top sozlar']\n",
        "data1.index.name = \"Sozlarning soni\"\n",
        "data1 = data1.tail(10).reset_index()\n",
        "data1.index.name = \"Egallagan o'rni\"\n",
        "fig = px.bar(data1, x = 'Top sozlar', y = 'Sozlarning soni', color=data1.index, width=1200, height=500)\n",
        "fig.show()"
      ]
    },
    {
      "cell_type": "code",
      "execution_count": null,
      "metadata": {
        "id": "z3ZwPjgvatQ3"
      },
      "outputs": [],
      "source": [
        ""
      ]
    },
    {
      "cell_type": "code",
      "execution_count": null,
      "metadata": {
        "id": "1pvNsrmwBZam"
      },
      "outputs": [],
      "source": [
        ""
      ]
    }
  ],
  "metadata": {
    "colab": {
      "collapsed_sections": [],
      "name": "Kun_uz_scrape.ipynb",
      "provenance": [],
      "authorship_tag": "ABX9TyNVMRlFNTEtev7GXbAvhQJ9",
      "include_colab_link": true
    },
    "kernelspec": {
      "display_name": "Python 3",
      "name": "python3"
    },
    "language_info": {
      "name": "python"
    }
  },
  "nbformat": 4,
  "nbformat_minor": 0
}